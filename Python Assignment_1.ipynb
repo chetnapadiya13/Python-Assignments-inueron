{
 "cells": [
  {
   "cell_type": "raw",
   "id": "ef3ff017",
   "metadata": {},
   "source": [
    "1. In the below elements which of them are values or an expression? eg:- values can be integer or string and expressions will be mathematical operators.\n",
    "* \n",
    "'hello'\n",
    "-87.8\n",
    "- \n",
    "/ \n",
    "+\t\n",
    "6 \n",
    "\n",
    "Answer : \n",
    "* , -,/,+ are expression \n",
    "'hello' ,-87.8,6 are values "
   ]
  },
  {
   "cell_type": "raw",
   "id": "13f72a4f",
   "metadata": {},
   "source": [
    "2. What is the difference between string and variable?\n",
    "Answer : \n",
    "string is datatype \n",
    "variable is used to store some values and values can be change as per logic requirments \n"
   ]
  },
  {
   "cell_type": "raw",
   "id": "8c04e9fb",
   "metadata": {},
   "source": [
    "3. Describe three different data types.\n",
    "Answer :\n",
    "Float : used to store real numbers for example 345.0000\n",
    "int : used to store numbers without decimal points for example 4500000\n",
    "complex : used to store real numbers + imaginary numbers used in electric signals calculations\n",
    "for example 6767+7878j"
   ]
  },
  {
   "cell_type": "raw",
   "id": "3a009425",
   "metadata": {},
   "source": [
    "4. What is an expression made up of? What do all expressions do?\n",
    "Answer : \n",
    "expression made up of operators and operands to perform some task also we can say its an instructions for machine to perform \n",
    "some logical,mathamatical etc tasks.\n"
   ]
  },
  {
   "cell_type": "raw",
   "id": "5f092124",
   "metadata": {},
   "source": [
    "5. This assignment statements, like spam = 10. What is the difference between an expression and a statement?\n",
    "Answer :\n",
    "expression is an element of program in python which evaluate some values x=10+20 is an expression always return some values\n",
    "statements is action or command spam = 10 is statements "
   ]
  },
  {
   "cell_type": "raw",
   "id": "0a47f391",
   "metadata": {},
   "source": [
    "6. After running the following code, what does the variable bacon contain?\n",
    "bacon = 22\n",
    "bacon + 1\n",
    "\n"
   ]
  },
  {
   "cell_type": "code",
   "execution_count": 1,
   "id": "b0f7e3e8",
   "metadata": {},
   "outputs": [
    {
     "data": {
      "text/plain": [
       "23"
      ]
     },
     "execution_count": 1,
     "metadata": {},
     "output_type": "execute_result"
    }
   ],
   "source": [
    "# Answer \n",
    "bacon = 22\n",
    "bacon + 1\n"
   ]
  },
  {
   "cell_type": "raw",
   "id": "a22cad95",
   "metadata": {},
   "source": [
    "7. What should the values of the following two terms be?\n",
    "'spam' + 'spamspam'\n",
    "'spam' * 3\n",
    "\n"
   ]
  },
  {
   "cell_type": "code",
   "execution_count": 3,
   "id": "020ff311",
   "metadata": {},
   "outputs": [
    {
     "data": {
      "text/plain": [
       "'spamspamspam'"
      ]
     },
     "execution_count": 3,
     "metadata": {},
     "output_type": "execute_result"
    }
   ],
   "source": [
    "# Answer \n",
    "'spam' + 'spamspam'"
   ]
  },
  {
   "cell_type": "code",
   "execution_count": 4,
   "id": "8d982614",
   "metadata": {},
   "outputs": [
    {
     "data": {
      "text/plain": [
       "'spamspamspam'"
      ]
     },
     "execution_count": 4,
     "metadata": {},
     "output_type": "execute_result"
    }
   ],
   "source": [
    "'spam' * 3"
   ]
  },
  {
   "cell_type": "raw",
   "id": "7b84bf92",
   "metadata": {},
   "source": [
    "8. Why is eggs a valid variable name while 100 is invalid ?\n",
    "Answer :\n",
    "as per naming convention rule in python alphabats are used for name of variable but only numbers are not allowed \n",
    "thats whyy eggs is valid and 100 is invalid as a name of variable "
   ]
  },
  {
   "cell_type": "raw",
   "id": "2331dcf2",
   "metadata": {},
   "source": [
    "9. What three functions can be used to get the integer, floating-point number, or string version of a value?\n",
    "Answer : \n",
    "int()\n",
    "float()\n",
    "str()"
   ]
  },
  {
   "cell_type": "raw",
   "id": "fc5a7870",
   "metadata": {},
   "source": [
    "10. Why does this expression cause an error? How can you fix it?\n",
    "'I have eaten ' + 99 + ' burritos.'\n",
    "\n",
    "Answer : \n",
    "string can not concatinate numeric values thats why error is there in expression \n",
    "we can fix it by puting numeric 99 into single or double quoat like  \n",
    "\n",
    "'I have eaten ' + '99' + ' burritos.'\n"
   ]
  }
 ],
 "metadata": {
  "kernelspec": {
   "display_name": "Python 3 (ipykernel)",
   "language": "python",
   "name": "python3"
  },
  "language_info": {
   "codemirror_mode": {
    "name": "ipython",
    "version": 3
   },
   "file_extension": ".py",
   "mimetype": "text/x-python",
   "name": "python",
   "nbconvert_exporter": "python",
   "pygments_lexer": "ipython3",
   "version": "3.9.7"
  }
 },
 "nbformat": 4,
 "nbformat_minor": 5
}
